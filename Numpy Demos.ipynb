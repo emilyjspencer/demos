{
 "cells": [
  {
   "cell_type": "code",
   "execution_count": 1,
   "metadata": {},
   "outputs": [],
   "source": [
    "import numpy as np"
   ]
  },
  {
   "cell_type": "markdown",
   "metadata": {},
   "source": [
    "## Numpy arrays vs Python lists"
   ]
  },
  {
   "cell_type": "code",
   "execution_count": 2,
   "metadata": {},
   "outputs": [
    {
     "name": "stdout",
     "output_type": "stream",
     "text": [
      "[1, 2, 3, 4, 5, 6, 7, 8, 9, 10]\n",
      "[ 1  2  3  4  5  6  7  8  9 10]\n"
     ]
    }
   ],
   "source": [
    "array1 = [i for i in range(1, 11)]\n",
    "array2 = np.arange(1, 11)\n",
    "\n",
    "print(array1)\n",
    "print(array2)"
   ]
  },
  {
   "cell_type": "code",
   "execution_count": 3,
   "metadata": {},
   "outputs": [
    {
     "name": "stdout",
     "output_type": "stream",
     "text": [
      "<class 'list'> <class 'numpy.ndarray'>\n"
     ]
    }
   ],
   "source": [
    "print(type(array1), type(array2))"
   ]
  },
  {
   "cell_type": "code",
   "execution_count": 4,
   "metadata": {
    "scrolled": true
   },
   "outputs": [
    {
     "name": "stdout",
     "output_type": "stream",
     "text": [
      "1\n",
      "2\n",
      "3\n",
      "4\n",
      "5\n",
      "6\n",
      "7\n",
      "8\n",
      "9\n",
      "10\n"
     ]
    }
   ],
   "source": [
    "for i in array1:\n",
    "    print(i)"
   ]
  },
  {
   "cell_type": "code",
   "execution_count": 5,
   "metadata": {},
   "outputs": [
    {
     "name": "stdout",
     "output_type": "stream",
     "text": [
      "1\n",
      "2\n",
      "3\n",
      "4\n",
      "5\n",
      "6\n",
      "7\n",
      "8\n",
      "9\n",
      "10\n"
     ]
    }
   ],
   "source": [
    "for i in array2:\n",
    "    print(i)"
   ]
  },
  {
   "cell_type": "code",
   "execution_count": 6,
   "metadata": {},
   "outputs": [
    {
     "name": "stdout",
     "output_type": "stream",
     "text": [
      "[1, 2, 3, 4, 5, 6, 7, 8, 9, 10, 1, 2, 3, 4, 5, 6, 7, 8, 9, 10]\n",
      "[ 2  4  6  8 10 12 14 16 18 20]\n"
     ]
    }
   ],
   "source": [
    "print(array1 * 2)\n",
    "print(array2 * 2)"
   ]
  },
  {
   "cell_type": "code",
   "execution_count": 7,
   "metadata": {},
   "outputs": [
    {
     "name": "stdout",
     "output_type": "stream",
     "text": [
      "[2, 4, 6, 8, 10, 12, 14, 16, 18, 20]\n"
     ]
    }
   ],
   "source": [
    "array3 = [2*i for i in range(1, 11)]\n",
    "\n",
    "print(array3)"
   ]
  },
  {
   "cell_type": "code",
   "execution_count": 9,
   "metadata": {
    "scrolled": true,
    "tags": [
     "raises-exception"
    ]
   },
   "outputs": [
    {
     "ename": "TypeError",
     "evalue": "can't multiply sequence by non-int of type 'list'",
     "output_type": "error",
     "traceback": [
      "\u001b[1;31m---------------------------------------------------------------------------\u001b[0m",
      "\u001b[1;31mTypeError\u001b[0m                                 Traceback (most recent call last)",
      "\u001b[1;32m<ipython-input-9-ef4b20427a0a>\u001b[0m in \u001b[0;36m<module>\u001b[1;34m()\u001b[0m\n\u001b[1;32m----> 1\u001b[1;33m \u001b[0mprint\u001b[0m\u001b[1;33m(\u001b[0m\u001b[0marray1\u001b[0m \u001b[1;33m*\u001b[0m \u001b[0marray3\u001b[0m\u001b[1;33m)\u001b[0m\u001b[1;33m\u001b[0m\u001b[0m\n\u001b[0m",
      "\u001b[1;31mTypeError\u001b[0m: can't multiply sequence by non-int of type 'list'"
     ]
    }
   ],
   "source": [
    "print(array1 * array3)"
   ]
  },
  {
   "cell_type": "code",
   "execution_count": 10,
   "metadata": {},
   "outputs": [
    {
     "name": "stdout",
     "output_type": "stream",
     "text": [
      "[  2   8  18  32  50  72  98 128 162 200]\n"
     ]
    }
   ],
   "source": [
    "print(np.array(array1) * np.array(array3))"
   ]
  },
  {
   "cell_type": "code",
   "execution_count": 11,
   "metadata": {},
   "outputs": [
    {
     "name": "stdout",
     "output_type": "stream",
     "text": [
      "[  2   8  18  32  50  72  98 128 162 200]\n"
     ]
    }
   ],
   "source": [
    "print(array2 * array3)"
   ]
  },
  {
   "cell_type": "markdown",
   "metadata": {},
   "source": [
    "### Tiling"
   ]
  },
  {
   "cell_type": "code",
   "execution_count": 12,
   "metadata": {},
   "outputs": [
    {
     "name": "stdout",
     "output_type": "stream",
     "text": [
      "[ 1  2  3  4  5  6  7  8  9 10  1  2  3  4  5  6  7  8  9 10  1  2  3  4\n",
      "  5  6  7  8  9 10]\n"
     ]
    }
   ],
   "source": [
    "array4 = np.tile(array2, 3)\n",
    "\n",
    "print(array4)"
   ]
  },
  {
   "cell_type": "markdown",
   "metadata": {},
   "source": [
    "### Arange, Linspace, Logspace, Zeros, and Ones"
   ]
  },
  {
   "cell_type": "code",
   "execution_count": 15,
   "metadata": {},
   "outputs": [
    {
     "name": "stdout",
     "output_type": "stream",
     "text": [
      "[50.  55.5 61.  66.5 72.  77.5 83.  88.5 94.  99.5]\n"
     ]
    }
   ],
   "source": [
    "start = 50\n",
    "finish = 100\n",
    "\n",
    "array5 = np.arange(start, finish + 1, 5.5)\n",
    "\n",
    "print(array5)"
   ]
  },
  {
   "cell_type": "code",
   "execution_count": null,
   "metadata": {},
   "outputs": [],
   "source": [
    "start = 0\n",
    "finish = 5\n",
    "step = 0.5\n",
    "number = int((finish - start) / step) + 1\n",
    "\n",
    "array6 = np.linspace(start, finish, number)\n",
    "\n",
    "print(array6)"
   ]
  },
  {
   "cell_type": "code",
   "execution_count": 16,
   "metadata": {},
   "outputs": [
    {
     "data": {
      "text/plain": [
       "array([1.e+01, 1.e+02, 1.e+03, 1.e+04, 1.e+05])"
      ]
     },
     "execution_count": 16,
     "metadata": {},
     "output_type": "execute_result"
    }
   ],
   "source": [
    "start = 1\n",
    "finish = 5\n",
    "number = 5\n",
    "base = 10\n",
    "\n",
    "np.logspace(start, finish, number, base)"
   ]
  },
  {
   "cell_type": "code",
   "execution_count": 17,
   "metadata": {},
   "outputs": [
    {
     "name": "stdout",
     "output_type": "stream",
     "text": [
      "[[0. 0. 0.]\n",
      " [0. 0. 0.]\n",
      " [0. 0. 0.]\n",
      " [0. 0. 0.]\n",
      " [0. 0. 0.]]\n",
      "[1 1 1 1 1 1 1 1 1 1 1 1 1 1 1]\n"
     ]
    }
   ],
   "source": [
    "array7 = np.zeros((5, 3))\n",
    "array8 = np.ones(15, dtype=int)\n",
    "\n",
    "print(array7)\n",
    "print(array8)"
   ]
  },
  {
   "cell_type": "markdown",
   "metadata": {},
   "source": [
    "### Mathematical Functions"
   ]
  },
  {
   "cell_type": "code",
   "execution_count": 18,
   "metadata": {},
   "outputs": [
    {
     "data": {
      "text/plain": [
       "3.141592653589793"
      ]
     },
     "execution_count": 18,
     "metadata": {},
     "output_type": "execute_result"
    }
   ],
   "source": [
    "np.pi"
   ]
  },
  {
   "cell_type": "code",
   "execution_count": 19,
   "metadata": {},
   "outputs": [
    {
     "data": {
      "text/plain": [
       "1.0471975511965976"
      ]
     },
     "execution_count": 19,
     "metadata": {},
     "output_type": "execute_result"
    }
   ],
   "source": [
    "np.deg2rad(60)"
   ]
  },
  {
   "cell_type": "code",
   "execution_count": 20,
   "metadata": {},
   "outputs": [
    {
     "data": {
      "text/plain": [
       "25.841932763167126"
      ]
     },
     "execution_count": 20,
     "metadata": {},
     "output_type": "execute_result"
    }
   ],
   "source": [
    "np.rad2deg(np.arccos(0.9))"
   ]
  },
  {
   "cell_type": "markdown",
   "metadata": {},
   "source": [
    "#### Euler's Identity: $e^{i\\pi} + 1 = 0$"
   ]
  },
  {
   "cell_type": "code",
   "execution_count": 21,
   "metadata": {},
   "outputs": [
    {
     "data": {
      "text/plain": [
       "1.2246467991473532e-16j"
      ]
     },
     "execution_count": 21,
     "metadata": {},
     "output_type": "execute_result"
    }
   ],
   "source": [
    "np.exp(np.pi * 1j) + 1"
   ]
  },
  {
   "cell_type": "markdown",
   "metadata": {},
   "source": [
    "### Masking"
   ]
  },
  {
   "cell_type": "code",
   "execution_count": 22,
   "metadata": {},
   "outputs": [
    {
     "name": "stdout",
     "output_type": "stream",
     "text": [
      "[1, 2, 3, 4, 5, 6, 7, 8, 9, 10]\n",
      "5.5\n",
      "[1 2 3 4 5 6 -- 8 -- --]\n",
      "4.142857142857143\n"
     ]
    }
   ],
   "source": [
    "print(array1)\n",
    "print(np.mean(array1))\n",
    "\n",
    "array9 = np.ma.masked_array(array1, mask=[0, 0, 0, 0, 0, 0, 1, 0, 1, 1])\n",
    "print(array9)\n",
    "print(np.mean(array9))"
   ]
  },
  {
   "cell_type": "code",
   "execution_count": 23,
   "metadata": {},
   "outputs": [
    {
     "name": "stdout",
     "output_type": "stream",
     "text": [
      "[0 0 0 0 0 0 0 0 0 0]\n",
      "[0 0 0 0 0 0 1 0 1 1]\n",
      "[1 2 3 4 5 6 -- 8 -- --]\n",
      "4.142857142857143\n"
     ]
    }
   ],
   "source": [
    "mask = np.zeros(10, dtype=int)\n",
    "print(mask)\n",
    "\n",
    "np.put(mask, [6, 8, 9], 1)\n",
    "print(mask)\n",
    "\n",
    "array10 = np.ma.masked_array(array1, mask=mask)\n",
    "print(array10)\n",
    "print(np.mean(array10))"
   ]
  },
  {
   "cell_type": "code",
   "execution_count": 24,
   "metadata": {},
   "outputs": [
    {
     "name": "stdout",
     "output_type": "stream",
     "text": [
      "[1, 2, 3, 4, 5, 6, 7, 8, 9, 10, 11, 12, 13, 14, 15, 16, 17, 18, 19, 20, 21, 22, 23, 24, 25, 26, 27, 28, 29, 30, 31, 32, 33, 34, 35, 36, 37, 38, 39, 40, 41, 42, 43, 44, 45, 46, 47, 48, 49, 50, 51, 52, 53, 54, 55, 56, 57, 58, 59, 60, 61, 62, 63, 64, 65, 66, 67, 68, 69, 70, 71, 72, 73, 74, 75, 76, 77, 78, 79, 80, 81, 82, 83, 84, 85, 86, 87, 88, 89, 90, 91, 92, 93, 94, 95, 96, 97, 98, 99, 100, 101, 102, 103, 104, 105, 106, 107, 108, 109, 110, 111, 112, 113, 114, 115, 116, 117, 118, 119, 120, 121, 122, 123, 124, 125, 126, 127, 128, 129, 130, 131, 132, 133, 134, 135, 136, 137, 138, 139, 140, 141, 142, 143, 144, 145, 146, 147, 148, 149, 150, 151, 152, 153, 154, 155, 156, 157, 158, 159, 160, 161, 162, 163, 164, 165, 166, 167, 168, 169, 170, 171, 172, 173, 174, 175, 176, 177, 178, 179, 180, 181, 182, 183, 184, 185, 186, 187, 188, 189, 190, 191, 192, 193, 194, 195, 196, 197, 198, 199, 200, 201, 202, 203, 204, 205, 206, 207, 208, 209, 210, 211, 212, 213, 214, 215, 216, 217, 218, 219, 220, 221, 222, 223, 224, 225, 226, 227, 228, 229, 230, 231, 232, 233, 234, 235, 236, 237, 238, 239, 240, 241, 242, 243, 244, 245, 246, 247, 248, 249, 250, 251, 252, 253, 254, 255, 256, 257, 258, 259, 260, 261, 262, 263, 264, 265, 266, 267, 268, 269, 270, 271, 272, 273, 274, 275, 276, 277, 278, 279, 280, 281, 282, 283, 284, 285, 286, 287, 288, 289, 290, 291, 292, 293, 294, 295, 296, 297, 298, 299, 300, 301, 302, 303, 304, 305, 306, 307, 308, 309, 310, 311, 312, 313, 314, 315, 316, 317, 318, 319, 320, 321, 322, 323, 324]\n",
      "[  1   2   3   4   5   6   7   8   9  10  11  12  13  14  15  16  17  18\n",
      "  19  20  21  22  23  24  25  26  27  28  29  30  31  32  33  34  35  36\n",
      "  37  38  39  40  41  42  43  44  45  46  47  48  49  50  51  52  53  54\n",
      "  55  56  57  58  59  60  61  62  63  64  65  66  67  68  69  70  71  72\n",
      "  73  74  75  76  77  78  79  80  81  82  83  84  85  86  87  88  89  90\n",
      "  91  92  93  94  95  96  97  98  99 100 101 102 103 104 105 106 107 108\n",
      " 109 110 111 112 113 114 115 116 117 118 119 120 121 122 123 124 125 126\n",
      " 127 128 129 130 131 132 133 134 135 136 137 138 139 140 141 142 143 144\n",
      " 145 146 147 148 149 150 151 152 153 154 155 156 157 158 159 160 161 162\n",
      " 163 164 165 166 167 168 169 170 171 172 173 174 175 176 177 178 179 180\n",
      " 181 182 183 184 185 186 187 188 189 190 191 192 193 194 195 196 197 198\n",
      " 199 200 201 202 203 204 205 206 207 208 209 210 211 212 213 214 215 216\n",
      " 217 218 219 220 221 222 223 224 225 226 227 228 229 230 231 232 233 234\n",
      " 235 236 237 238 239 240 241 242 243 244 245 246 247 248 249 250 251 252\n",
      " 253 254 255 256 257 258 259 260 261 262 263 264 265 266 267 268 269 270\n",
      " 271 272 273 274 275 276 277 278 279 280 281 282 283 284 285 286 287 288\n",
      " 289 290 291 292 293 294 295 296 297 298 299 300 301 302 303 304 305 306\n",
      " 307 308 309 310 311 312 313 314 315 316 317 318 319 320 321 322 323 324]\n"
     ]
    }
   ],
   "source": [
    "array11 = [i for i in range(1, (18**2) + 1)]\n",
    "print(array11)\n",
    "\n",
    "array12 = np.arange(1, (18**2) + 1)\n",
    "print(array12)"
   ]
  },
  {
   "cell_type": "code",
   "execution_count": 25,
   "metadata": {},
   "outputs": [
    {
     "name": "stdout",
     "output_type": "stream",
     "text": [
      "[190 340 301 325 990 517 265 520 799 898 991 559 753 899 661 212 286 134\n",
      "  41 418 512 694 879 987 368 837 618 727 727 123 636 870 756 383 285 557\n",
      " 260 756 945 364 356 172 514 851 908 908 822 246 216 447 643 292 150 606\n",
      " 999 932 591   3 613 874 727 836 136  38 568 841 748 941 578 797 486 253\n",
      "  44 727 552 528 600 185 262 183 905 345 990 567 698 817 995 379 400 261\n",
      " 207 599 102 914 494 574 880 762   1 685  77 695  75 754 139  76 164 188\n",
      " 798 709  66 278 805 318 294 224 449  49 410 383 258 451 503 403 613 842\n",
      " 697 847  51   2 303 816 426 802 100 191 840 142 253 633 735 928 272 418\n",
      " 732 160 770 128 552 482  17 578 230  17  17 561 161  68 173 618 613 705\n",
      " 592 494 354 651 784 435 161 910  44 615 426 809 761 129 940 636 785 322\n",
      " 969 735 158 829 916 902 424 860 344 739 838 513 671  27 395 597 837 778\n",
      " 284 552 786 647 637 454 571 828 891  54 704  56 368 329 387 380 259 711\n",
      " 160  22 714 174 252 744 467 907 631 239 866 320 757 766 936 204 104 947\n",
      " 617 876 869 522 549 173 146 528 280 408 428 314 332 899 485 511 927 624\n",
      " 668 962  92 986 335 720 182 941  12 134  76 683 387 364 611 351 866 951\n",
      " 504 196 423 584 934  98  80 390 437 581 644 518 207 120 489 334 300 559\n",
      " 735 721 680 204  11 712 145 503 793 817 463 265 395 846  59 627 257 516\n",
      " 871 544 855 318 320 286 920 393 204 947 189 840 453 831 750 919 176 159]\n",
      "[False False False False  True  True False  True  True  True  True  True\n",
      "  True  True  True False False False False False  True  True  True  True\n",
      " False  True  True  True  True False  True  True  True False False  True\n",
      " False  True  True False False False  True  True  True  True  True False\n",
      " False False  True False False  True  True  True  True False  True  True\n",
      "  True  True False False  True  True  True  True  True  True False False\n",
      " False  True  True  True  True False False False  True False  True  True\n",
      "  True  True  True False False False False  True False  True False  True\n",
      "  True  True False  True False  True False  True False False False False\n",
      "  True  True False False  True False False False False False False False\n",
      " False False  True False  True  True  True  True False False False  True\n",
      " False  True False False  True False False  True  True  True False False\n",
      "  True False  True False  True False False  True False False False  True\n",
      " False False False  True  True  True  True False False  True  True False\n",
      " False  True False  True False  True  True False  True  True  True False\n",
      "  True  True False  True  True  True False  True False  True  True  True\n",
      "  True False False  True  True  True False  True  True  True  True False\n",
      "  True  True  True False  True False False False False False False  True\n",
      " False False  True False False  True False  True  True False  True False\n",
      "  True  True  True False False  True  True  True  True  True  True False\n",
      " False  True False False False False False  True False  True  True  True\n",
      "  True  True False  True False  True False  True False False False  True\n",
      " False False  True False  True  True  True False False  True  True False\n",
      " False False False  True  True  True False False False False False  True\n",
      "  True  True  True False False  True False  True  True  True False False\n",
      " False  True False  True False  True  True  True  True False False False\n",
      "  True False False  True False  True False  True  True  True False False]\n",
      "324\n"
     ]
    }
   ],
   "source": [
    "array13 = np.random.randint(low=0, high=1000, size=((18**2)))\n",
    "print(array13)\n",
    "\n",
    "idx = (array13 >= 500)\n",
    "print(idx)\n",
    "print(len(idx))"
   ]
  },
  {
   "cell_type": "code",
   "execution_count": 26,
   "metadata": {
    "tags": [
     "raises-exception"
    ]
   },
   "outputs": [
    {
     "ename": "TypeError",
     "evalue": "only integer scalar arrays can be converted to a scalar index",
     "output_type": "error",
     "traceback": [
      "\u001b[1;31m---------------------------------------------------------------------------\u001b[0m",
      "\u001b[1;31mTypeError\u001b[0m                                 Traceback (most recent call last)",
      "\u001b[1;32m<ipython-input-26-e18855fdb9e4>\u001b[0m in \u001b[0;36m<module>\u001b[1;34m()\u001b[0m\n\u001b[1;32m----> 1\u001b[1;33m \u001b[0mprint\u001b[0m\u001b[1;33m(\u001b[0m\u001b[0marray11\u001b[0m\u001b[1;33m[\u001b[0m\u001b[0midx\u001b[0m\u001b[1;33m]\u001b[0m\u001b[1;33m)\u001b[0m\u001b[1;33m\u001b[0m\u001b[0m\n\u001b[0m",
      "\u001b[1;31mTypeError\u001b[0m: only integer scalar arrays can be converted to a scalar index"
     ]
    }
   ],
   "source": [
    "print(array11[idx])"
   ]
  },
  {
   "cell_type": "code",
   "execution_count": 27,
   "metadata": {},
   "outputs": [
    {
     "name": "stdout",
     "output_type": "stream",
     "text": [
      "[  5   6   8   9  10  11  12  13  14  15  21  22  23  24  26  27  28  29\n",
      "  31  32  33  36  38  39  43  44  45  46  47  51  54  55  56  57  59  60\n",
      "  61  62  65  66  67  68  69  70  74  75  76  77  81  83  84  85  86  87\n",
      "  92  94  96  97  98 100 102 104 109 110 113 123 125 126 127 128 132 134\n",
      " 137 140 141 142 145 147 149 152 156 160 161 162 163 166 167 170 172 174\n",
      " 175 177 178 179 181 182 184 185 186 188 190 191 192 193 196 197 198 200\n",
      " 201 202 203 205 206 207 209 216 219 222 224 225 227 229 230 231 234 235\n",
      " 236 237 238 239 242 248 250 251 252 253 254 256 258 260 264 267 269 270\n",
      " 271 274 275 280 281 282 288 289 290 291 294 296 297 298 302 304 306 307\n",
      " 308 309 313 316 318 320 321 322]\n",
      "170\n"
     ]
    }
   ],
   "source": [
    "array14 = array12[idx]\n",
    "\n",
    "print(array14)\n",
    "print(len(array14))"
   ]
  },
  {
   "cell_type": "code",
   "execution_count": 28,
   "metadata": {},
   "outputs": [
    {
     "name": "stdout",
     "output_type": "stream",
     "text": [
      "[1 2 3 4 -- -- 7 -- -- -- -- -- -- -- -- 16 17 18 19 20 -- -- -- -- 25 --\n",
      " -- -- -- 30 -- -- -- 34 35 -- 37 -- -- 40 41 42 -- -- -- -- -- 48 49 50\n",
      " -- 52 53 -- -- -- -- 58 -- -- -- -- 63 64 -- -- -- -- -- -- 71 72 73 --\n",
      " -- -- -- 78 79 80 -- 82 -- -- -- -- -- 88 89 90 91 -- 93 -- 95 -- -- --\n",
      " 99 -- 101 -- 103 -- 105 106 107 108 -- -- 111 112 -- 114 115 116 117 118\n",
      " 119 120 121 122 -- 124 -- -- -- -- 129 130 131 -- 133 -- 135 136 -- 138\n",
      " 139 -- -- -- 143 144 -- 146 -- 148 -- 150 151 -- 153 154 155 -- 157 158\n",
      " 159 -- -- -- -- 164 165 -- -- 168 169 -- 171 -- 173 -- -- 176 -- -- --\n",
      " 180 -- -- 183 -- -- -- 187 -- 189 -- -- -- -- 194 195 -- -- -- 199 -- --\n",
      " -- -- 204 -- -- -- 208 -- 210 211 212 213 214 215 -- 217 218 -- 220 221\n",
      " -- 223 -- -- 226 -- 228 -- -- -- 232 233 -- -- -- -- -- -- 240 241 -- 243\n",
      " 244 245 246 247 -- 249 -- -- -- -- -- 255 -- 257 -- 259 -- 261 262 263 --\n",
      " 265 266 -- 268 -- -- -- 272 273 -- -- 276 277 278 279 -- -- -- 283 284\n",
      " 285 286 287 -- -- -- -- 292 293 -- 295 -- -- -- 299 300 301 -- 303 -- 305\n",
      " -- -- -- -- 310 311 312 -- 314 315 -- 317 -- 319 -- -- -- 323 324]\n",
      "324\n"
     ]
    }
   ],
   "source": [
    "array15 = np.ma.masked_array(array11, mask=idx)\n",
    "\n",
    "print(array15)\n",
    "print(len(array15))"
   ]
  },
  {
   "cell_type": "code",
   "execution_count": 29,
   "metadata": {},
   "outputs": [
    {
     "name": "stdout",
     "output_type": "stream",
     "text": [
      "[1 2 3 4 -- -- 7 -- -- -- -- -- -- -- -- 16 17 18 19 20 -- -- -- -- 25 --\n",
      " -- -- -- 30 -- -- -- 34 35 -- 37 -- -- 40 41 42 -- -- -- -- -- 48 49 50\n",
      " -- 52 53 -- -- -- -- 58 -- -- -- -- 63 64 -- -- -- -- -- -- 71 72 73 --\n",
      " -- -- -- 78 79 80 -- 82 -- -- -- -- -- 88 89 90 91 -- 93 -- 95 -- -- --\n",
      " 99 -- 101 -- 103 -- 105 106 107 108 -- -- 111 112 -- 114 115 116 117 118\n",
      " 119 120 121 122 -- 124 -- -- -- -- 129 130 131 -- 133 -- 135 136 -- 138\n",
      " 139 -- -- -- 143 144 -- 146 -- 148 -- 150 151 -- 153 154 155 -- 157 158\n",
      " 159 -- -- -- -- 164 165 -- -- 168 169 -- 171 -- 173 -- -- 176 -- -- --\n",
      " 180 -- -- 183 -- -- -- 187 -- 189 -- -- -- -- 194 195 -- -- -- 199 -- --\n",
      " -- -- 204 -- -- -- 208 -- 210 211 212 213 214 215 -- 217 218 -- 220 221\n",
      " -- 223 -- -- 226 -- 228 -- -- -- 232 233 -- -- -- -- -- -- 240 241 -- 243\n",
      " 244 245 246 247 -- 249 -- -- -- -- -- 255 -- 257 -- 259 -- 261 262 263 --\n",
      " 265 266 -- 268 -- -- -- 272 273 -- -- 276 277 278 279 -- -- -- 283 284\n",
      " 285 286 287 -- -- -- -- 292 293 -- 295 -- -- -- 299 300 301 -- 303 -- 305\n",
      " -- -- -- -- 310 311 312 -- 314 315 -- 317 -- 319 -- -- -- 323 324]\n",
      "324\n"
     ]
    }
   ],
   "source": [
    "array16 = np.ma.masked_array(array12, mask=idx)\n",
    "\n",
    "print(array16)\n",
    "print(len(array16))"
   ]
  },
  {
   "cell_type": "markdown",
   "metadata": {},
   "source": [
    "### Matrices"
   ]
  },
  {
   "cell_type": "code",
   "execution_count": 30,
   "metadata": {},
   "outputs": [
    {
     "name": "stdout",
     "output_type": "stream",
     "text": [
      "[['A' '1']\n",
      " ['B' '2']\n",
      " ['C' '3']]\n"
     ]
    }
   ],
   "source": [
    "a = ['A', '1']\n",
    "b = ['B', '2']\n",
    "c = ['C', '3']\n",
    "\n",
    "array17 = np.matrix([a, b, c])\n",
    "\n",
    "print(array17)"
   ]
  },
  {
   "cell_type": "code",
   "execution_count": 31,
   "metadata": {},
   "outputs": [
    {
     "name": "stdout",
     "output_type": "stream",
     "text": [
      "[['A' 'B' 'C']\n",
      " ['1' '2' '3']]\n"
     ]
    }
   ],
   "source": [
    "array18 = array17.transpose()\n",
    "\n",
    "print(array18)"
   ]
  }
 ],
 "metadata": {
  "kernelspec": {
   "display_name": "Python 3",
   "language": "python",
   "name": "python3"
  },
  "language_info": {
   "codemirror_mode": {
    "name": "ipython",
    "version": 3
   },
   "file_extension": ".py",
   "mimetype": "text/x-python",
   "name": "python",
   "nbconvert_exporter": "python",
   "pygments_lexer": "ipython3",
   "version": "3.6.5"
  }
 },
 "nbformat": 4,
 "nbformat_minor": 2
}
